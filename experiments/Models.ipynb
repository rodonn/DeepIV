{
 "cells": [
  {
   "cell_type": "code",
   "execution_count": null,
   "metadata": {},
   "outputs": [],
   "source": [
    "import numpy as np\n",
    "import numpy.random as random\n",
    "\n",
    "from deepiv.models import Treatment, Response\n",
    "import deepiv.architectures as architectures\n",
    "import deepiv.densities as densities\n",
    "\n",
    "from keras.layers import Input, Dense\n",
    "from keras.models import Model\n",
    "from keras.layers.merge import Concatenate\n",
    "\n",
    "import data_generator"
   ]
  },
  {
   "cell_type": "code",
   "execution_count": null,
   "metadata": {
    "collapsed": true
   },
   "outputs": [],
   "source": [
    "class DeepIV():\n",
    "    \"\"\"Deep Instrumental Variables\n",
    "    This class is an implemenatation of an approach using\n",
    "    deep neural networks to estimate the causal effect of treatment T\n",
    "    using a set of intrumental variables Z.\n",
    "    \n",
    "    See https://arxiv.org/abs/1612.09596\n",
    "    \"\"\"\n",
    "    def __init__(self, num_instruments, num_features, num_treatments,\n",
    "                 hidden_layer_sizes = [128, 64, 32], \n",
    "                 num_gaussians = 10, dropout_rate = 0.2,\n",
    "                 l2_penalty = 0.0001, activation_function = \"relu\",\n",
    "                 optimizer = \"adam\"):\n",
    "        \n",
    "        instruments = Input(shape = (num_instruments,), name = \"instruments\")\n",
    "        features = Input(shape = (num_features,), name = \"features\")\n",
    "        treatments = Input(shape = (num_treatments,), name = \"treatment\")\n",
    "        \n",
    "        instruments_and_features = Concatenate(axis=1)([instruments, features])\n",
    "        features_and_treatments = Concatenate(axis=1)([features, treatments])\n",
    "        \n",
    "        estimated_treatments = architectures.feed_forward_net(\n",
    "            instruments_and_features, \n",
    "            lambda x: densities.mixture_of_gaussian_output(x, num_gaussians),\n",
    "            hidden_layers = hidden_layer_sizes, \n",
    "            dropout_rate = dropout_rate,\n",
    "            l2 = l2_penalty, \n",
    "            activations = activation_function)\n",
    "        \n",
    "        treatment_model = Treatment(inputs=[instruments, features], outputs=estimated_treatments)\n",
    "        treatment_model.compile(optimizer, loss=\"mixture_of_gaussians\", n_components = num_gaussians)\n",
    "        \n",
    "        estimated_response = architectures.feed_forward_net(\n",
    "            features_and_treatments, \n",
    "            Dense(1),\n",
    "            hidden_layers = hidden_layer_sizes,\n",
    "            dropout_rate=dropout_rate,\n",
    "            l2 = l2_penalty,\n",
    "            activations = activation_function)\n",
    "        \n",
    "        response_model = Response(\n",
    "            treatment = treatment_model,\n",
    "            inputs = [features, treatments],\n",
    "            outputs = estimated_response)\n",
    "        response_model.compile(optimizer, loss = \"mse\")\n",
    "        \n",
    "        self.treatment_model = treatment_model\n",
    "        self.response_model = response_model\n",
    "        \n",
    "        \n",
    "    def fit(self, Z, X, T, Y, epochs = 300, batch_size = 100, verbose = True):\n",
    "        self.treatment_model.fit([Z, X], T, epochs=epochs, batch_size=batch_size, verbose=verbose)\n",
    "        self.response_model.fit([Z, X], Y, epochs=epochs, batch_size=batch_size, \n",
    "                                samples_per_batch=2, verbose=verbose)\n",
    "        \n",
    "\n",
    "    def get_expected_representation(self, X, Z, n_samples=100):\n",
    "        return self.response_model.expected_representation(X, Z, n_samples=n_samples)\n",
    "    \n",
    "    def get_eta_bar(self, X, Z):\n",
    "        return self.get_expected_representation(X,Z)\n",
    "    \n",
    "    def get_conditional_representation(self, X, T):\n",
    "        return self.response_model.conditional_representation(X, T)\n",
    "    \n",
    "    def get_eta(self, X, T):\n",
    "        return self.get_conditional_representation(X,T)\n",
    "    \n",
    "    def predict(self, X, T):\n",
    "        return self.response_model.predict([X, T])"
   ]
  },
  {
   "cell_type": "code",
   "execution_count": null,
   "metadata": {
    "collapsed": true
   },
   "outputs": [],
   "source": [
    "N = 5000\n",
    "images = False\n",
    "def datafunction(n, s, images=images, test=False):\n",
    "    return data_generator.demand(n=n, seed=s, ypcor=0.5, use_images=images, test=test)\n",
    "\n",
    "x, z, t, y, g_true = datafunction(N, 1)\n",
    "\n",
    "num_instruments = z.shape[1]\n",
    "num_features = x.shape[1]\n",
    "num_treatments = t.shape[1]\n"
   ]
  },
  {
   "cell_type": "code",
   "execution_count": null,
   "metadata": {},
   "outputs": [],
   "source": [
    "deepiv = DeepIV(num_instruments, num_features, num_treatments)\n",
    "deepiv.fit(z,x,t,y, verbose=False, epochs=100)"
   ]
  },
  {
   "cell_type": "code",
   "execution_count": null,
   "metadata": {},
   "outputs": [],
   "source": [
    "np.sum((deepiv.predict(x,t) - y)**2)"
   ]
  },
  {
   "cell_type": "code",
   "execution_count": null,
   "metadata": {},
   "outputs": [],
   "source": [
    "deepiv.get_eta(x,t).shape"
   ]
  },
  {
   "cell_type": "code",
   "execution_count": null,
   "metadata": {},
   "outputs": [],
   "source": [
    "deepiv.get_eta_bar(x,z).shape"
   ]
  },
  {
   "cell_type": "code",
   "execution_count": null,
   "metadata": {
    "collapsed": true
   },
   "outputs": [],
   "source": [
    "import matplotlib.pyplot as plt\n",
    "plt.plot()"
   ]
  },
  {
   "cell_type": "code",
   "execution_count": null,
   "metadata": {
    "collapsed": true
   },
   "outputs": [],
   "source": []
  }
 ],
 "metadata": {
  "kernelspec": {
   "display_name": "Python 3.6 (DeepIV)",
   "language": "python",
   "name": "deepiv"
  },
  "language_info": {
   "codemirror_mode": {
    "name": "ipython",
    "version": 3
   },
   "file_extension": ".py",
   "mimetype": "text/x-python",
   "name": "python",
   "nbconvert_exporter": "python",
   "pygments_lexer": "ipython3",
   "version": "3.6.1"
  }
 },
 "nbformat": 4,
 "nbformat_minor": 2
}
