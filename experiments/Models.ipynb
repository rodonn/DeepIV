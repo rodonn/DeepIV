{
 "cells": [
  {
   "cell_type": "code",
   "execution_count": 1,
   "metadata": {
    "collapsed": false
   },
   "outputs": [
    {
     "ename": "ModuleNotFoundError",
     "evalue": "No module named 'deepiv'",
     "output_type": "error",
     "traceback": [
      "\u001b[0;31m---------------------------------------------------------------------------\u001b[0m",
      "\u001b[0;31mModuleNotFoundError\u001b[0m                       Traceback (most recent call last)",
      "\u001b[0;32m<ipython-input-1-3245592dc649>\u001b[0m in \u001b[0;36m<module>\u001b[0;34m()\u001b[0m\n\u001b[1;32m      2\u001b[0m \u001b[1;32mimport\u001b[0m \u001b[0mnumpy\u001b[0m\u001b[1;33m.\u001b[0m\u001b[0mrandom\u001b[0m \u001b[1;32mas\u001b[0m \u001b[0mrandom\u001b[0m\u001b[1;33m\u001b[0m\u001b[0m\n\u001b[1;32m      3\u001b[0m \u001b[1;33m\u001b[0m\u001b[0m\n\u001b[0;32m----> 4\u001b[0;31m \u001b[1;32mfrom\u001b[0m \u001b[0mdeepiv\u001b[0m\u001b[1;33m.\u001b[0m\u001b[0mmodels\u001b[0m \u001b[1;32mimport\u001b[0m \u001b[0mTreatment\u001b[0m\u001b[1;33m,\u001b[0m \u001b[0mResponse\u001b[0m\u001b[1;33m\u001b[0m\u001b[0m\n\u001b[0m\u001b[1;32m      5\u001b[0m \u001b[1;32mimport\u001b[0m \u001b[0mdeepiv\u001b[0m\u001b[1;33m.\u001b[0m\u001b[0marchitectures\u001b[0m \u001b[1;32mas\u001b[0m \u001b[0marchitectures\u001b[0m\u001b[1;33m\u001b[0m\u001b[0m\n\u001b[1;32m      6\u001b[0m \u001b[1;32mimport\u001b[0m \u001b[0mdeepiv\u001b[0m\u001b[1;33m.\u001b[0m\u001b[0mdensities\u001b[0m \u001b[1;32mas\u001b[0m \u001b[0mdensities\u001b[0m\u001b[1;33m\u001b[0m\u001b[0m\n",
      "\u001b[0;31mModuleNotFoundError\u001b[0m: No module named 'deepiv'"
     ]
    }
   ],
   "source": [
    "import numpy as np\n",
    "import numpy.random as random\n",
    "\n",
    "from deepiv.models import Treatment, Response\n",
    "import deepiv.architectures as architectures\n",
    "import deepiv.densities as densities\n",
    "\n",
    "from keras.layers import Input, Dense\n",
    "from keras.models import Model\n",
    "from keras.layers.merge import Concatenate\n",
    "\n",
    "import data_generator"
   ]
  },
  {
   "cell_type": "code",
   "execution_count": null,
   "metadata": {
    "collapsed": true
   },
   "outputs": [],
   "source": [
    "class DeepIV():\n",
    "    \"\"\"Deep Instrumental Variables\n",
    "    This class is an implemenatation of an approach using\n",
    "    deep neural networks to estimate the causal effect of treatment T\n",
    "    using a set of intrumental variables Z.\n",
    "    \n",
    "    See https://arxiv.org/abs/1612.09596\n",
    "    \"\"\"\n",
    "    def __init__(self, num_instruments, num_features, num_treatments,\n",
    "                 hidden_layer_sizes = [128, 64, 32], \n",
    "                 num_gaussians = 10, dropout_rate = 0.2,\n",
    "                 l2_penalty = 0.0001, activation_function = \"relu\",\n",
    "                 optimizer = \"adam\"):\n",
    "        \n",
    "        instruments = Input(shape = (num_instruments,), name = \"instruments\")\n",
    "        features = Input(shape = (num_features,), name = \"features\")\n",
    "        treatments = Input(shape = (num_treatments,), name = \"treatment\")\n",
    "        \n",
    "        instruments_and_features = Concatenate(axis=1)([instruments, features])\n",
    "        features_and_treatments = Concatenate(axis=1)([features, treatments])\n",
    "        \n",
    "        def gaussian_mix_outputs(x):\n",
    "            densities.mixture_of_gaussian_output(x, num_gaussians)\n",
    "        \n",
    "        estimated_treatment = architectures.feed_forward_net(\n",
    "            instruments_and_features, \n",
    "            gaussian_mix_outputs,\n",
    "            hidden_layers = hidden_layer_sizes, \n",
    "            dropout_rate = dropout_rate,\n",
    "            l2 = l2_penalty, \n",
    "            activations = activation_function)\n",
    "        \n",
    "        treatment_model = Treatment(inputs=[instruments, features], outputs=estimated_treatment)\n",
    "        treatment_model.compile(optimizer, loss=\"mixture_of_gaussians\", n_components = num_gaussians)\n",
    "        \n",
    "        estimated_response = architectures.feed_forward_net(\n",
    "            features_and_treatments, \n",
    "            Dense(1),\n",
    "            hidden_layers = hidden_layer_sizes,\n",
    "            dropout_rate=dropout_rate,\n",
    "            l2 = l2_penalty,\n",
    "            activations = activation_function)\n",
    "        \n",
    "        response_model = Response(\n",
    "            treatment = treatment_model,\n",
    "            inputs = [features, treatment],\n",
    "            outputs = estimated_response)\n",
    "        response_model.compile(optimizer, loss = \"mse\")\n",
    "        \n",
    "        self.treatment_model = treatment_model\n",
    "        self.response_model = response_model\n",
    "        \n",
    "        \n",
    "    def fit(self, Z, X, T, epochs = 300, batch_size = 100, verbose = True):\n",
    "        self.treatment_model.fit([Z, X], T, epochs=epochs, batch_size=batch_size)\n",
    "        self.response_model.fit([Z, X], Y, epochs=epochs, batch_size=batch_size, samples_per_batch=2)\n",
    "        \n",
    "\n",
    "    def get_represetation(self, X, T):\n",
    "        return self.response_model.get_represetation([X, T])\n",
    "    \n",
    "    def predict(self, X, T):\n",
    "        return self.response_model.predict([X, T])\n",
    "\n",
    "    \n",
    "    "
   ]
  },
  {
   "cell_type": "code",
   "execution_count": null,
   "metadata": {
    "collapsed": true
   },
   "outputs": [],
   "source": [
    "N = 5000\n",
    "images = False\n",
    "def datafunction(n, s, images=images, test=False):\n",
    "    return data_generator.demand(n=n, seed=s, ypcor=0.5, use_images=images, test=test)\n",
    "\n",
    "x, z, t, y, g_true = datafunction(N, 1)\n",
    "\n",
    "num_instruments = z.shape[1]\n",
    "num_features = x.shape[1]\n",
    "num_treatments = t.shape[1]\n"
   ]
  },
  {
   "cell_type": "code",
   "execution_count": null,
   "metadata": {
    "collapsed": false
   },
   "outputs": [],
   "source": [
    "deepiv = DeepIV(num_instruments, num_features, num_treatments)"
   ]
  },
  {
   "cell_type": "code",
   "execution_count": 33,
   "metadata": {
    "collapsed": false
   },
   "outputs": [
    {
     "name": "stdout",
     "output_type": "stream",
     "text": [
      "Sampler inputs: [<tf.Tensor 'instruments_5:0' shape=(?, 1) dtype=float32>, <tf.Tensor 'features_5:0' shape=(?, 8) dtype=float32>]\n"
     ]
    }
   ],
   "source": [
    "instruments = Input(shape=(z.shape[1],), name=\"instruments\")\n",
    "features = Input(shape=(x.shape[1],), name=\"features\")\n",
    "treatment_input = Concatenate(axis=1)([instruments, features])\n",
    "\n",
    "hidden = [128, 64, 32]\n",
    "\n",
    "act = \"relu\"\n",
    "\n",
    "\n",
    "est_treat = architectures.feed_forward_net(treatment_input, lambda x: densities.mixture_of_gaussian_output(x, 10),\n",
    "                                           hidden_layers=[128, 64, 32],\n",
    "                                           dropout_rate=0.5, l2=0.0001,\n",
    "                                           activations=\"relu\")\n",
    "\n",
    "treatment_model = Treatment(inputs=[instruments, features], outputs=est_treat)\n",
    "treatment_model.compile('adam',\n",
    "                        loss=\"mixture_of_gaussians\",\n",
    "                        n_components=10)\n"
   ]
  },
  {
   "cell_type": "code",
   "execution_count": 34,
   "metadata": {
    "collapsed": false
   },
   "outputs": [
    {
     "data": {
      "text/plain": [
       "<tf.Tensor 'instruments_5:0' shape=(?, 1) dtype=float32>"
      ]
     },
     "execution_count": 34,
     "metadata": {},
     "output_type": "execute_result"
    }
   ],
   "source": [
    "instruments"
   ]
  },
  {
   "cell_type": "code",
   "execution_count": 36,
   "metadata": {
    "collapsed": false
   },
   "outputs": [
    {
     "ename": "TypeError",
     "evalue": "Output tensors to a Treatment must be Keras tensors. Found: None",
     "output_type": "error",
     "traceback": [
      "\u001b[0;31m---------------------------------------------------------------------------\u001b[0m",
      "\u001b[0;31mTypeError\u001b[0m                                 Traceback (most recent call last)",
      "\u001b[0;32m<ipython-input-36-ebef611afffc>\u001b[0m in \u001b[0;36m<module>\u001b[0;34m()\u001b[0m\n\u001b[1;32m     24\u001b[0m     activations = activation_function)\n\u001b[1;32m     25\u001b[0m \u001b[0;34m\u001b[0m\u001b[0m\n\u001b[0;32m---> 26\u001b[0;31m \u001b[0mtreatment_model\u001b[0m \u001b[0;34m=\u001b[0m \u001b[0mTreatment\u001b[0m\u001b[0;34m(\u001b[0m\u001b[0minputs\u001b[0m\u001b[0;34m=\u001b[0m\u001b[0;34m[\u001b[0m\u001b[0minstruments\u001b[0m\u001b[0;34m,\u001b[0m \u001b[0mfeatures\u001b[0m\u001b[0;34m]\u001b[0m\u001b[0;34m,\u001b[0m \u001b[0moutputs\u001b[0m\u001b[0;34m=\u001b[0m\u001b[0mestimated_treatment\u001b[0m\u001b[0;34m)\u001b[0m\u001b[0;34m\u001b[0m\u001b[0m\n\u001b[0m\u001b[1;32m     27\u001b[0m \u001b[0mtreatment_model\u001b[0m\u001b[0;34m.\u001b[0m\u001b[0mcompile\u001b[0m\u001b[0;34m(\u001b[0m\u001b[0moptimizer\u001b[0m\u001b[0;34m,\u001b[0m \u001b[0mloss\u001b[0m\u001b[0;34m=\u001b[0m\u001b[0;34m\"mixture_of_gaussians\"\u001b[0m\u001b[0;34m,\u001b[0m \u001b[0mn_components\u001b[0m \u001b[0;34m=\u001b[0m \u001b[0mnum_gaussians\u001b[0m\u001b[0;34m)\u001b[0m\u001b[0;34m\u001b[0m\u001b[0m\n",
      "\u001b[0;32m/usr/local/anaconda3/envs/deepiv/lib/python3.6/site-packages/keras/legacy/interfaces.py\u001b[0m in \u001b[0;36mwrapper\u001b[0;34m(*args, **kwargs)\u001b[0m\n\u001b[1;32m     85\u001b[0m                 warnings.warn('Update your `' + object_name +\n\u001b[1;32m     86\u001b[0m                               '` call to the Keras 2 API: ' + signature, stacklevel=2)\n\u001b[0;32m---> 87\u001b[0;31m             \u001b[0;32mreturn\u001b[0m \u001b[0mfunc\u001b[0m\u001b[0;34m(\u001b[0m\u001b[0;34m*\u001b[0m\u001b[0margs\u001b[0m\u001b[0;34m,\u001b[0m \u001b[0;34m**\u001b[0m\u001b[0mkwargs\u001b[0m\u001b[0;34m)\u001b[0m\u001b[0;34m\u001b[0m\u001b[0m\n\u001b[0m\u001b[1;32m     88\u001b[0m         \u001b[0mwrapper\u001b[0m\u001b[0;34m.\u001b[0m\u001b[0m_original_function\u001b[0m \u001b[0;34m=\u001b[0m \u001b[0mfunc\u001b[0m\u001b[0;34m\u001b[0m\u001b[0m\n\u001b[1;32m     89\u001b[0m         \u001b[0;32mreturn\u001b[0m \u001b[0mwrapper\u001b[0m\u001b[0;34m\u001b[0m\u001b[0m\n",
      "\u001b[0;32m/usr/local/anaconda3/envs/deepiv/lib/python3.6/site-packages/keras/engine/topology.py\u001b[0m in \u001b[0;36m__init__\u001b[0;34m(self, inputs, outputs, name)\u001b[0m\n\u001b[1;32m   1565\u001b[0m                 \u001b[0mcls_name\u001b[0m \u001b[0;34m=\u001b[0m \u001b[0mself\u001b[0m\u001b[0;34m.\u001b[0m\u001b[0m__class__\u001b[0m\u001b[0;34m.\u001b[0m\u001b[0m__name__\u001b[0m\u001b[0;34m\u001b[0m\u001b[0m\n\u001b[1;32m   1566\u001b[0m                 raise TypeError('Output tensors to a ' + cls_name + ' must be '\n\u001b[0;32m-> 1567\u001b[0;31m                                 'Keras tensors. Found: ' + str(x))\n\u001b[0m\u001b[1;32m   1568\u001b[0m         \u001b[0;31m# Build self.output_layers:\u001b[0m\u001b[0;34m\u001b[0m\u001b[0;34m\u001b[0m\u001b[0m\n\u001b[1;32m   1569\u001b[0m         \u001b[0;32mfor\u001b[0m \u001b[0mx\u001b[0m \u001b[0;32min\u001b[0m \u001b[0mself\u001b[0m\u001b[0;34m.\u001b[0m\u001b[0moutputs\u001b[0m\u001b[0;34m:\u001b[0m\u001b[0;34m\u001b[0m\u001b[0m\n",
      "\u001b[0;31mTypeError\u001b[0m: Output tensors to a Treatment must be Keras tensors. Found: None"
     ]
    }
   ],
   "source": [
    "hidden_layer_sizes = [128, 64, 32]\n",
    "num_gaussians = 10\n",
    "dropout_rate = 0.2\n",
    "l2_penalty = 0.0001\n",
    "activation_function = \"relu\"\n",
    "optimizer = \"adam\"\n",
    "\n",
    "instruments = Input(shape = (num_instruments,), name = \"instruments\")\n",
    "features = Input(shape = (num_features,), name = \"features\")\n",
    "treatments = Input(shape = (num_treatments,), name = \"treatment\")\n",
    "\n",
    "instruments_and_features = Concatenate(axis=1)([instruments, features])\n",
    "features_and_treatments = Concatenate(axis=1)([features, treatments])\n",
    "\n",
    "def gaussian_mix_outputs(x):\n",
    "    densities.mixture_of_gaussian_output(x, num_gaussians)\n",
    "\n",
    "estimated_treatment = architectures.feed_forward_net(\n",
    "    instruments_and_features, \n",
    "    gaussian_mix_outputs,\n",
    "    hidden_layers = hidden_layer_sizes, \n",
    "    dropout_rate = dropout_rate,\n",
    "    l2 = l2_penalty, \n",
    "    activations = activation_function)\n",
    "\n",
    "treatment_model = Treatment(inputs=[instruments, features], outputs=estimated_treatment)\n",
    "treatment_model.compile(optimizer, loss=\"mixture_of_gaussians\", n_components = num_gaussians)\n"
   ]
  },
  {
   "cell_type": "code",
   "execution_count": 38,
   "metadata": {
    "collapsed": false
   },
   "outputs": [
    {
     "data": {
      "text/plain": [
       "<tf.Tensor 'concatenate_13/concat:0' shape=(?, 9) dtype=float32>"
      ]
     },
     "execution_count": 38,
     "metadata": {},
     "output_type": "execute_result"
    }
   ],
   "source": [
    "instruments_and_features"
   ]
  },
  {
   "cell_type": "code",
   "execution_count": 39,
   "metadata": {
    "collapsed": false
   },
   "outputs": [
    {
     "data": {
      "text/plain": [
       "<tf.Tensor 'concatenate_9/concat:0' shape=(?, 9) dtype=float32>"
      ]
     },
     "execution_count": 39,
     "metadata": {},
     "output_type": "execute_result"
    }
   ],
   "source": [
    "treatment_input"
   ]
  },
  {
   "cell_type": "code",
   "execution_count": 41,
   "metadata": {
    "collapsed": true
   },
   "outputs": [],
   "source": [
    "instruments = Input(shape=(z.shape[1],), name=\"instruments\")\n",
    "features = Input(shape=(x.shape[1],), name=\"features\")"
   ]
  },
  {
   "cell_type": "code",
   "execution_count": 42,
   "metadata": {
    "collapsed": false
   },
   "outputs": [
    {
     "data": {
      "text/plain": [
       "<tf.Tensor 'instruments_8:0' shape=(?, 1) dtype=float32>"
      ]
     },
     "execution_count": 42,
     "metadata": {},
     "output_type": "execute_result"
    }
   ],
   "source": [
    "instruments"
   ]
  },
  {
   "cell_type": "code",
   "execution_count": 43,
   "metadata": {
    "collapsed": false
   },
   "outputs": [
    {
     "data": {
      "text/plain": [
       "<tf.Tensor 'features_8:0' shape=(?, 8) dtype=float32>"
      ]
     },
     "execution_count": 43,
     "metadata": {},
     "output_type": "execute_result"
    }
   ],
   "source": [
    "features"
   ]
  },
  {
   "cell_type": "code",
   "execution_count": 44,
   "metadata": {
    "collapsed": true
   },
   "outputs": [],
   "source": [
    "instruments = Input(shape = (num_instruments,), name = \"instruments\")\n",
    "features = Input(shape = (num_features,), name = \"features\")\n",
    "treatments = Input(shape = (num_treatments,), name = \"treatment\")\n",
    "\n",
    "instruments_and_features = Concatenate(axis=1)([instruments, features])"
   ]
  },
  {
   "cell_type": "code",
   "execution_count": 45,
   "metadata": {
    "collapsed": false
   },
   "outputs": [
    {
     "data": {
      "text/plain": [
       "<tf.Tensor 'instruments_9:0' shape=(?, 1) dtype=float32>"
      ]
     },
     "execution_count": 45,
     "metadata": {},
     "output_type": "execute_result"
    }
   ],
   "source": [
    "instruments"
   ]
  },
  {
   "cell_type": "code",
   "execution_count": 46,
   "metadata": {
    "collapsed": false
   },
   "outputs": [
    {
     "data": {
      "text/plain": [
       "<tf.Tensor 'features_9:0' shape=(?, 8) dtype=float32>"
      ]
     },
     "execution_count": 46,
     "metadata": {},
     "output_type": "execute_result"
    }
   ],
   "source": [
    "features"
   ]
  },
  {
   "cell_type": "code",
   "execution_count": 47,
   "metadata": {
    "collapsed": false
   },
   "outputs": [
    {
     "data": {
      "text/plain": [
       "<tf.Tensor 'concatenate_16/concat:0' shape=(?, 9) dtype=float32>"
      ]
     },
     "execution_count": 47,
     "metadata": {},
     "output_type": "execute_result"
    }
   ],
   "source": [
    "instruments_and_features"
   ]
  },
  {
   "cell_type": "code",
   "execution_count": 48,
   "metadata": {
    "collapsed": false
   },
   "outputs": [
    {
     "data": {
      "text/plain": [
       "<tf.Tensor 'concatenate_9/concat:0' shape=(?, 9) dtype=float32>"
      ]
     },
     "execution_count": 48,
     "metadata": {},
     "output_type": "execute_result"
    }
   ],
   "source": [
    "treatment_input"
   ]
  },
  {
   "cell_type": "code",
   "execution_count": 49,
   "metadata": {
    "collapsed": false
   },
   "outputs": [
    {
     "data": {
      "text/plain": [
       "<tf.Tensor 'concatenate_17/concat:0' shape=(?, 30) dtype=float32>"
      ]
     },
     "execution_count": 49,
     "metadata": {},
     "output_type": "execute_result"
    }
   ],
   "source": [
    "architectures.feed_forward_net(treatment_input, lambda x: densities.mixture_of_gaussian_output(x, 10),\n",
    "                                           hidden_layers=[128, 64, 32],\n",
    "                                           dropout_rate=0.5, l2=0.0001,\n",
    "                                           activations=\"relu\")"
   ]
  },
  {
   "cell_type": "code",
   "execution_count": 52,
   "metadata": {
    "collapsed": false
   },
   "outputs": [
    {
     "data": {
      "text/plain": [
       "<tf.Tensor 'concatenate_19/concat:0' shape=(?, 30) dtype=float32>"
      ]
     },
     "execution_count": 52,
     "metadata": {},
     "output_type": "execute_result"
    }
   ],
   "source": [
    "architectures.feed_forward_net(\n",
    "    instruments_and_features, \n",
    "    lambda x: densities.mixture_of_gaussian_output(x, 10),\n",
    "    hidden_layers = hidden_layer_sizes, \n",
    "    dropout_rate = dropout_rate,\n",
    "    l2 = l2_penalty, \n",
    "    activations = activation_function)"
   ]
  },
  {
   "cell_type": "code",
   "execution_count": 51,
   "metadata": {
    "collapsed": false
   },
   "outputs": [
    {
     "data": {
      "text/plain": [
       "<function __main__.gaussian_mix_outputs>"
      ]
     },
     "execution_count": 51,
     "metadata": {},
     "output_type": "execute_result"
    }
   ],
   "source": [
    "gaussian_mix_outputs"
   ]
  },
  {
   "cell_type": "code",
   "execution_count": null,
   "metadata": {
    "collapsed": true
   },
   "outputs": [],
   "source": []
  }
 ],
 "metadata": {
  "kernelspec": {
   "display_name": "Python 3",
   "language": "python",
   "name": "python3"
  }
 },
 "nbformat": 4,
 "nbformat_minor": 2
}
