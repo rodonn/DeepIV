{
 "cells": [
  {
   "cell_type": "code",
   "execution_count": null,
   "metadata": {
    "collapsed": true
   },
   "outputs": [],
   "source": [
    "function EndogeneousDataGenerator(\n",
    "        outcomeFunction::Function, \n",
    "        treatmentFunction::Function,\n",
    "        xDist::Sampleable, \n",
    "        zDist::Sampleable, \n",
    "        uDist::Sampleable)\n",
    "    \n",
    "    "
   ]
  },
  {
   "cell_type": "code",
   "execution_count": 2,
   "metadata": {},
   "outputs": [
    {
     "name": "stdout",
     "output_type": "stream",
     "text": [
      "search: \u001b[1mm\u001b[22m\u001b[1ma\u001b[22m\u001b[1mp\u001b[22m \u001b[1mm\u001b[22m\u001b[1ma\u001b[22m\u001b[1mp\u001b[22m! \u001b[1mm\u001b[22m\u001b[1ma\u001b[22m\u001b[1mp\u001b[22mfoldr \u001b[1mm\u001b[22m\u001b[1ma\u001b[22m\u001b[1mp\u001b[22mfoldl \u001b[1mm\u001b[22m\u001b[1ma\u001b[22m\u001b[1mp\u001b[22mslices \u001b[1mm\u001b[22m\u001b[1ma\u001b[22m\u001b[1mp\u001b[22mreduce \u001b[1mm\u001b[22m\u001b[1ma\u001b[22m\u001b[1mp\u001b[22mreducedim p\u001b[1mm\u001b[22m\u001b[1ma\u001b[22m\u001b[1mp\u001b[22m \u001b[1mM\u001b[22mm\u001b[1ma\u001b[22m\u001b[1mp\u001b[22m\n",
      "\n"
     ]
    },
    {
     "data": {
      "text/markdown": [
       "```\n",
       "map(f, c...) -> collection\n",
       "```\n",
       "\n",
       "Transform collection `c` by applying `f` to each element. For multiple collection arguments, apply `f` elementwise.\n",
       "\n",
       "```jldoctest\n",
       "julia> map(x -> x * 2, [1, 2, 3])\n",
       "3-element Array{Int64,1}:\n",
       " 2\n",
       " 4\n",
       " 6\n",
       "\n",
       "julia> map(+, [1, 2, 3], [10, 20, 30])\n",
       "3-element Array{Int64,1}:\n",
       " 11\n",
       " 22\n",
       " 33\n",
       "```\n",
       "\n",
       "```\n",
       "map(f, x::Nullable)\n",
       "```\n",
       "\n",
       "Return `f` applied to the value of `x` if it has one, as a `Nullable`. If `x` is null, then return a null value of type `Nullable{S}`. `S` is guaranteed to be either `Union{}` or a concrete type. Whichever of these is chosen is an implementation detail, but typically the choice that maximizes performance would be used. If `x` has a value, then the return type is guaranteed to be of type `Nullable{typeof(f(x))}`.\n"
      ],
      "text/plain": [
       "```\n",
       "map(f, c...) -> collection\n",
       "```\n",
       "\n",
       "Transform collection `c` by applying `f` to each element. For multiple collection arguments, apply `f` elementwise.\n",
       "\n",
       "```jldoctest\n",
       "julia> map(x -> x * 2, [1, 2, 3])\n",
       "3-element Array{Int64,1}:\n",
       " 2\n",
       " 4\n",
       " 6\n",
       "\n",
       "julia> map(+, [1, 2, 3], [10, 20, 30])\n",
       "3-element Array{Int64,1}:\n",
       " 11\n",
       " 22\n",
       " 33\n",
       "```\n",
       "\n",
       "```\n",
       "map(f, x::Nullable)\n",
       "```\n",
       "\n",
       "Return `f` applied to the value of `x` if it has one, as a `Nullable`. If `x` is null, then return a null value of type `Nullable{S}`. `S` is guaranteed to be either `Union{}` or a concrete type. Whichever of these is chosen is an implementation detail, but typically the choice that maximizes performance would be used. If `x` has a value, then the return type is guaranteed to be of type `Nullable{typeof(f(x))}`.\n"
      ]
     },
     "execution_count": 2,
     "metadata": {},
     "output_type": "execute_result"
    }
   ],
   "source": [
    "?map"
   ]
  },
  {
   "cell_type": "code",
   "execution_count": 3,
   "metadata": {},
   "outputs": [
    {
     "data": {
      "text/plain": [
       "(::#1) (generic function with 1 method)"
      ]
     },
     "execution_count": 3,
     "metadata": {},
     "output_type": "execute_result"
    }
   ],
   "source": [
    "x -> x+2"
   ]
  },
  {
   "cell_type": "code",
   "execution_count": 8,
   "metadata": {},
   "outputs": [
    {
     "data": {
      "text/plain": [
       "Distributions.Normal{Float64}(μ=0.0, σ=1.0)"
      ]
     },
     "execution_count": 8,
     "metadata": {},
     "output_type": "execute_result"
    }
   ],
   "source": [
    "Normal()"
   ]
  },
  {
   "cell_type": "code",
   "execution_count": 7,
   "metadata": {},
   "outputs": [
    {
     "name": "stderr",
     "output_type": "stream",
     "text": [
      "\u001b[1m\u001b[36mINFO: \u001b[39m\u001b[22m\u001b[36mPrecompiling module Distributions.\n",
      "\u001b[39m"
     ]
    }
   ],
   "source": [
    "using Distributions"
   ]
  },
  {
   "cell_type": "code",
   "execution_count": 9,
   "metadata": {},
   "outputs": [
    {
     "name": "stderr",
     "output_type": "stream",
     "text": [
      "\u001b[1m\u001b[36mINFO: \u001b[39m\u001b[22m\u001b[36mUpdating METADATA...\n",
      "\u001b[39m\u001b[1m\u001b[36mINFO: \u001b[39m\u001b[22m\u001b[36mComputing changes...\n",
      "\u001b[39m\u001b[1m\u001b[36mINFO: \u001b[39m\u001b[22m\u001b[36mNo packages to install, update or remove\n",
      "\u001b[39m"
     ]
    }
   ],
   "source": [
    "Pkg.update()"
   ]
  },
  {
   "cell_type": "code",
   "execution_count": 10,
   "metadata": {},
   "outputs": [
    {
     "name": "stdout",
     "output_type": "stream",
     "text": [
      "search: \u001b[1mr\u001b[22m\u001b[1ma\u001b[22m\u001b[1mn\u001b[22m\u001b[1md\u001b[22m \u001b[1mr\u001b[22m\u001b[1ma\u001b[22m\u001b[1mn\u001b[22m\u001b[1md\u001b[22mn \u001b[1mr\u001b[22m\u001b[1ma\u001b[22m\u001b[1mn\u001b[22m\u001b[1md\u001b[22m! \u001b[1mr\u001b[22m\u001b[1ma\u001b[22m\u001b[1mn\u001b[22m\u001b[1md\u001b[22mn! \u001b[1mr\u001b[22m\u001b[1ma\u001b[22m\u001b[1mn\u001b[22m\u001b[1md\u001b[22mexp \u001b[1mr\u001b[22m\u001b[1ma\u001b[22m\u001b[1mn\u001b[22m\u001b[1md\u001b[22mperm \u001b[1mr\u001b[22m\u001b[1ma\u001b[22m\u001b[1mn\u001b[22m\u001b[1md\u001b[22mjump \u001b[1mr\u001b[22m\u001b[1ma\u001b[22m\u001b[1mn\u001b[22m\u001b[1md\u001b[22mexp! \u001b[1mr\u001b[22m\u001b[1ma\u001b[22m\u001b[1mn\u001b[22m\u001b[1md\u001b[22mcycle\n",
      "\n"
     ]
    },
    {
     "data": {
      "text/markdown": [
       "```\n",
       "rand([rng=GLOBAL_RNG], [S], [dims...])\n",
       "```\n",
       "\n",
       "Pick a random element or array of random elements from the set of values specified by `S`; `S` can be\n",
       "\n",
       "  * an indexable collection (for example `1:n` or `['x','y','z']`), or\n",
       "  * a type: the set of values to pick from is then equivalent to `typemin(S):typemax(S)` for integers (this is not applicable to [`BigInt`](@ref)), and to $[0, 1)$ for floating point numbers;\n",
       "\n",
       "`S` defaults to [`Float64`](@ref).\n"
      ],
      "text/plain": [
       "```\n",
       "rand([rng=GLOBAL_RNG], [S], [dims...])\n",
       "```\n",
       "\n",
       "Pick a random element or array of random elements from the set of values specified by `S`; `S` can be\n",
       "\n",
       "  * an indexable collection (for example `1:n` or `['x','y','z']`), or\n",
       "  * a type: the set of values to pick from is then equivalent to `typemin(S):typemax(S)` for integers (this is not applicable to [`BigInt`](@ref)), and to $[0, 1)$ for floating point numbers;\n",
       "\n",
       "`S` defaults to [`Float64`](@ref).\n"
      ]
     },
     "execution_count": 10,
     "metadata": {},
     "output_type": "execute_result"
    }
   ],
   "source": [
    "?rand"
   ]
  },
  {
   "cell_type": "code",
   "execution_count": 13,
   "metadata": {},
   "outputs": [
    {
     "data": {
      "text/html": [
       "77 methods for generic function <b>mean</b>:<ul><li> mean(d::<b>Distributions.DiscreteUniform</b>) at <a href=\"https://github.com/JuliaStats/Distributions.jl/tree/90519bcb9771a5d681ca0b726f5f90f49527d7b8//src/univariate/discrete/discreteuniform.jl#L50\" target=\"_blank\">/Users/rodonn/.julia/v0.6/Distributions/src/univariate/discrete/discreteuniform.jl:50</a></li> <li> mean(d::<b>Distributions.Hypergeometric</b>) at <a href=\"https://github.com/JuliaStats/Distributions.jl/tree/90519bcb9771a5d681ca0b726f5f90f49527d7b8//src/univariate/discrete/hypergeometric.jl#L42\" target=\"_blank\">/Users/rodonn/.julia/v0.6/Distributions/src/univariate/discrete/hypergeometric.jl:42</a></li> <li> mean(d::<b>Distributions.Kolmogorov</b>) at <a href=\"https://github.com/JuliaStats/Distributions.jl/tree/90519bcb9771a5d681ca0b726f5f90f49527d7b8//src/univariate/continuous/kolmogorov.jl#L15\" target=\"_blank\">/Users/rodonn/.julia/v0.6/Distributions/src/univariate/continuous/kolmogorov.jl:15</a></li> <li> mean(d::<b>Distributions.EmpiricalUnivariateDistribution</b>) at <a href=\"https://github.com/JuliaStats/Distributions.jl/tree/90519bcb9771a5d681ca0b726f5f90f49527d7b8//src/empirical.jl#L40\" target=\"_blank\">/Users/rodonn/.julia/v0.6/Distributions/src/empirical.jl:40</a></li> <li> mean(d::<b>Distributions.UnivariateGMM</b>) at <a href=\"https://github.com/JuliaStats/Distributions.jl/tree/90519bcb9771a5d681ca0b726f5f90f49527d7b8//src/mixtures/unigmm.jl#L26\" target=\"_blank\">/Users/rodonn/.julia/v0.6/Distributions/src/mixtures/unigmm.jl:26</a></li> <li> mean(r::<b>Range{#s45} where #s45<:Real</b>) at <a href=\"https://github.com/JuliaLang/julia/tree/903644385b91ed8d95e5e3a5716c089dd1f1b08a/base/range.jl#L858\" target=\"_blank\">range.jl:858</a></li> <li> mean(f::<b>Union{Function, Type}</b>, A::<b>AbstractArray</b>) at <a href=\"https://github.com/JuliaLang/julia/tree/903644385b91ed8d95e5e3a5716c089dd1f1b08a/base/statistics.jl#L35\" target=\"_blank\">statistics.jl:35</a></li> <li> mean(f::<b>Union{Function, Type}</b>, iterable) at <a href=\"https://github.com/JuliaLang/julia/tree/903644385b91ed8d95e5e3a5716c089dd1f1b08a/base/statistics.jl#L19\" target=\"_blank\">statistics.jl:19</a></li> <li> mean<i>{T<:Number, W<:Real}</i>(A::<b>AbstractArray{T,N} where N</b>, w::<b>StatsBase.AbstractWeights{W,T,V} where V<:AbstractArray{T,1} where T<:Real</b>, dim::<b>Int64</b>) at <a href=\"https://github.com/JuliaStats/StatsBase.jl/tree/6df21f0699a189a70938eec809e96ea11e1771f4//src/weights.jl#L467\" target=\"_blank\">/Users/rodonn/.julia/v0.6/StatsBase/src/weights.jl:467</a></li> <li> mean(A::<b>AbstractArray</b>) at <a href=\"https://github.com/JuliaLang/julia/tree/903644385b91ed8d95e5e3a5716c089dd1f1b08a/base/statistics.jl#L36\" target=\"_blank\">statistics.jl:36</a></li> <li> mean(A::<b>AbstractArray</b>, w::<b>StatsBase.AbstractWeights</b>) at <a href=\"https://github.com/JuliaStats/StatsBase.jl/tree/6df21f0699a189a70938eec809e96ea11e1771f4//src/weights.jl#L453\" target=\"_blank\">/Users/rodonn/.julia/v0.6/StatsBase/src/weights.jl:453</a></li> <li> mean<i>{T}</i>(A::<b>AbstractArray{T,N} where N</b>, region) at <a href=\"https://github.com/JuliaLang/julia/tree/903644385b91ed8d95e5e3a5716c089dd1f1b08a/base/statistics.jl#L57\" target=\"_blank\">statistics.jl:57</a></li> <li> mean(d::<b>Distributions.Bernoulli</b>) at <a href=\"https://github.com/JuliaStats/Distributions.jl/tree/90519bcb9771a5d681ca0b726f5f90f49527d7b8//src/univariate/discrete/bernoulli.jl#L57\" target=\"_blank\">/Users/rodonn/.julia/v0.6/Distributions/src/univariate/discrete/bernoulli.jl:57</a></li> <li> mean(d::<b>Distributions.BetaBinomial</b>) at <a href=\"https://github.com/JuliaStats/Distributions.jl/tree/90519bcb9771a5d681ca0b726f5f90f49527d7b8//src/univariate/discrete/betabinomial.jl#L55\" target=\"_blank\">/Users/rodonn/.julia/v0.6/Distributions/src/univariate/discrete/betabinomial.jl:55</a></li> <li> mean(d::<b>Distributions.Binomial</b>) at <a href=\"https://github.com/JuliaStats/Distributions.jl/tree/90519bcb9771a5d681ca0b726f5f90f49527d7b8//src/univariate/discrete/binomial.jl#L65\" target=\"_blank\">/Users/rodonn/.julia/v0.6/Distributions/src/univariate/discrete/binomial.jl:65</a></li> <li> mean(d::<b>Distributions.Categorical</b>) at <a href=\"https://github.com/JuliaStats/Distributions.jl/tree/90519bcb9771a5d681ca0b726f5f90f49527d7b8//src/univariate/discrete/categorical.jl#L64\" target=\"_blank\">/Users/rodonn/.julia/v0.6/Distributions/src/univariate/discrete/categorical.jl:64</a></li> <li> mean(d::<b>Distributions.Geometric</b>) at <a href=\"https://github.com/JuliaStats/Distributions.jl/tree/90519bcb9771a5d681ca0b726f5f90f49527d7b8//src/univariate/discrete/geometric.jl#L52\" target=\"_blank\">/Users/rodonn/.julia/v0.6/Distributions/src/univariate/discrete/geometric.jl:52</a></li> <li> mean(d::<b>Distributions.NegativeBinomial</b>) at <a href=\"https://github.com/JuliaStats/Distributions.jl/tree/90519bcb9771a5d681ca0b726f5f90f49527d7b8//src/univariate/discrete/negativebinomial.jl#L69\" target=\"_blank\">/Users/rodonn/.julia/v0.6/Distributions/src/univariate/discrete/negativebinomial.jl:69</a></li> <li> mean(d::<b>Distributions.FisherNoncentralHypergeometric</b>) at <a href=\"https://github.com/JuliaStats/Distributions.jl/tree/90519bcb9771a5d681ca0b726f5f90f49527d7b8//src/univariate/discrete/noncentralhypergeometric.jl#L78\" target=\"_blank\">/Users/rodonn/.julia/v0.6/Distributions/src/univariate/discrete/noncentralhypergeometric.jl:78</a></li> <li> mean(d::<b>Distributions.WalleniusNoncentralHypergeometric</b>) at <a href=\"https://github.com/JuliaStats/Distributions.jl/tree/90519bcb9771a5d681ca0b726f5f90f49527d7b8//src/univariate/discrete/noncentralhypergeometric.jl#L117\" target=\"_blank\">/Users/rodonn/.julia/v0.6/Distributions/src/univariate/discrete/noncentralhypergeometric.jl:117</a></li> <li> mean(d::<b>Distributions.Poisson</b>) at <a href=\"https://github.com/JuliaStats/Distributions.jl/tree/90519bcb9771a5d681ca0b726f5f90f49527d7b8//src/univariate/discrete/poisson.jl#L47\" target=\"_blank\">/Users/rodonn/.julia/v0.6/Distributions/src/univariate/discrete/poisson.jl:47</a></li> <li> mean(d::<b>Distributions.Skellam</b>) at <a href=\"https://github.com/JuliaStats/Distributions.jl/tree/90519bcb9771a5d681ca0b726f5f90f49527d7b8//src/univariate/discrete/skellam.jl#L53\" target=\"_blank\">/Users/rodonn/.julia/v0.6/Distributions/src/univariate/discrete/skellam.jl:53</a></li> <li> mean(d::<b>Distributions.PoissonBinomial</b>) at <a href=\"https://github.com/JuliaStats/Distributions.jl/tree/90519bcb9771a5d681ca0b726f5f90f49527d7b8//src/univariate/discrete/poissonbinomial.jl#L65\" target=\"_blank\">/Users/rodonn/.julia/v0.6/Distributions/src/univariate/discrete/poissonbinomial.jl:65</a></li> <li> mean(d::<b>Distributions.Arcsine</b>) at <a href=\"https://github.com/JuliaStats/Distributions.jl/tree/90519bcb9771a5d681ca0b726f5f90f49527d7b8//src/univariate/continuous/arcsine.jl#L59\" target=\"_blank\">/Users/rodonn/.julia/v0.6/Distributions/src/univariate/continuous/arcsine.jl:59</a></li> <li> mean(d::<b>Distributions.Beta</b>) at <a href=\"https://github.com/JuliaStats/Distributions.jl/tree/90519bcb9771a5d681ca0b726f5f90f49527d7b8//src/univariate/continuous/beta.jl#L62\" target=\"_blank\">/Users/rodonn/.julia/v0.6/Distributions/src/univariate/continuous/beta.jl:62</a></li> <li> mean<i>{T<:Real}</i>(d::<b>Distributions.BetaPrime{T}</b>) at <a href=\"https://github.com/JuliaStats/Distributions.jl/tree/90519bcb9771a5d681ca0b726f5f90f49527d7b8//src/univariate/continuous/betaprime.jl#L62\" target=\"_blank\">/Users/rodonn/.julia/v0.6/Distributions/src/univariate/continuous/betaprime.jl:62</a></li> <li> mean(d::<b>Distributions.Biweight</b>) at <a href=\"https://github.com/JuliaStats/Distributions.jl/tree/90519bcb9771a5d681ca0b726f5f90f49527d7b8//src/univariate/continuous/biweight.jl#L21\" target=\"_blank\">/Users/rodonn/.julia/v0.6/Distributions/src/univariate/continuous/biweight.jl:21</a></li> <li> mean<i>{T<:Real}</i>(d::<b>Distributions.Cauchy{T}</b>) at <a href=\"https://github.com/JuliaStats/Distributions.jl/tree/90519bcb9771a5d681ca0b726f5f90f49527d7b8//src/univariate/continuous/cauchy.jl#L61\" target=\"_blank\">/Users/rodonn/.julia/v0.6/Distributions/src/univariate/continuous/cauchy.jl:61</a></li> <li> mean(d::<b>Distributions.Chisq</b>) at <a href=\"https://github.com/JuliaStats/Distributions.jl/tree/90519bcb9771a5d681ca0b726f5f90f49527d7b8//src/univariate/continuous/chisq.jl#L46\" target=\"_blank\">/Users/rodonn/.julia/v0.6/Distributions/src/univariate/continuous/chisq.jl:46</a></li> <li> mean(d::<b>Distributions.Chi</b>) at <a href=\"https://github.com/JuliaStats/Distributions.jl/tree/90519bcb9771a5d681ca0b726f5f90f49527d7b8//src/univariate/continuous/chi.jl#L47\" target=\"_blank\">/Users/rodonn/.julia/v0.6/Distributions/src/univariate/continuous/chi.jl:47</a></li> <li> mean(d::<b>Distributions.Cosine</b>) at <a href=\"https://github.com/JuliaStats/Distributions.jl/tree/90519bcb9771a5d681ca0b726f5f90f49527d7b8//src/univariate/continuous/cosine.jl#L40\" target=\"_blank\">/Users/rodonn/.julia/v0.6/Distributions/src/univariate/continuous/cosine.jl:40</a></li> <li> mean(d::<b>Distributions.Epanechnikov</b>) at <a href=\"https://github.com/JuliaStats/Distributions.jl/tree/90519bcb9771a5d681ca0b726f5f90f49527d7b8//src/univariate/continuous/epanechnikov.jl#L33\" target=\"_blank\">/Users/rodonn/.julia/v0.6/Distributions/src/univariate/continuous/epanechnikov.jl:33</a></li> <li> mean(d::<b>Distributions.Exponential</b>) at <a href=\"https://github.com/JuliaStats/Distributions.jl/tree/90519bcb9771a5d681ca0b726f5f90f49527d7b8//src/univariate/continuous/exponential.jl#L50\" target=\"_blank\">/Users/rodonn/.julia/v0.6/Distributions/src/univariate/continuous/exponential.jl:50</a></li> <li> mean<i>{T<:Real}</i>(d::<b>Distributions.FDist{T}</b>) at <a href=\"https://github.com/JuliaStats/Distributions.jl/tree/90519bcb9771a5d681ca0b726f5f90f49527d7b8//src/univariate/continuous/fdist.jl#L57\" target=\"_blank\">/Users/rodonn/.julia/v0.6/Distributions/src/univariate/continuous/fdist.jl:57</a></li> <li> mean<i>{T<:Real}</i>(d::<b>Distributions.Frechet{T}</b>) at <a href=\"https://github.com/JuliaStats/Distributions.jl/tree/90519bcb9771a5d681ca0b726f5f90f49527d7b8//src/univariate/continuous/frechet.jl#L62\" target=\"_blank\">/Users/rodonn/.julia/v0.6/Distributions/src/univariate/continuous/frechet.jl:62</a></li> <li> mean(d::<b>Distributions.Gamma</b>) at <a href=\"https://github.com/JuliaStats/Distributions.jl/tree/90519bcb9771a5d681ca0b726f5f90f49527d7b8//src/univariate/continuous/gamma.jl#L59\" target=\"_blank\">/Users/rodonn/.julia/v0.6/Distributions/src/univariate/continuous/gamma.jl:59</a></li> <li> mean(d::<b>Distributions.Erlang</b>) at <a href=\"https://github.com/JuliaStats/Distributions.jl/tree/90519bcb9771a5d681ca0b726f5f90f49527d7b8//src/univariate/continuous/erlang.jl#L53\" target=\"_blank\">/Users/rodonn/.julia/v0.6/Distributions/src/univariate/continuous/erlang.jl:53</a></li> <li> mean<i>{T<:Real}</i>(d::<b>Distributions.GeneralizedPareto{T}</b>) at <a href=\"https://github.com/JuliaStats/Distributions.jl/tree/90519bcb9771a5d681ca0b726f5f90f49527d7b8//src/univariate/continuous/generalizedpareto.jl#L78\" target=\"_blank\">/Users/rodonn/.julia/v0.6/Distributions/src/univariate/continuous/generalizedpareto.jl:78</a></li> <li> mean<i>{T<:Real}</i>(d::<b>Distributions.GeneralizedExtremeValue{T}</b>) at <a href=\"https://github.com/JuliaStats/Distributions.jl/tree/90519bcb9771a5d681ca0b726f5f90f49527d7b8//src/univariate/continuous/generalizedextremevalue.jl#L90\" target=\"_blank\">/Users/rodonn/.julia/v0.6/Distributions/src/univariate/continuous/generalizedextremevalue.jl:90</a></li> <li> mean(d::<b>Distributions.Gumbel</b>) at <a href=\"https://github.com/JuliaStats/Distributions.jl/tree/90519bcb9771a5d681ca0b726f5f90f49527d7b8//src/univariate/continuous/gumbel.jl#L55\" target=\"_blank\">/Users/rodonn/.julia/v0.6/Distributions/src/univariate/continuous/gumbel.jl:55</a></li> <li> mean<i>{T<:Real}</i>(d::<b>Distributions.InverseGamma{T}</b>) at <a href=\"https://github.com/JuliaStats/Distributions.jl/tree/90519bcb9771a5d681ca0b726f5f90f49527d7b8//src/univariate/continuous/inversegamma.jl#L61\" target=\"_blank\">/Users/rodonn/.julia/v0.6/Distributions/src/univariate/continuous/inversegamma.jl:61</a></li> <li> mean(d::<b>Distributions.InverseGaussian</b>) at <a href=\"https://github.com/JuliaStats/Distributions.jl/tree/90519bcb9771a5d681ca0b726f5f90f49527d7b8//src/univariate/continuous/inversegaussian.jl#L60\" target=\"_blank\">/Users/rodonn/.julia/v0.6/Distributions/src/univariate/continuous/inversegaussian.jl:60</a></li> <li> mean(d::<b>Distributions.Laplace</b>) at <a href=\"https://github.com/JuliaStats/Distributions.jl/tree/90519bcb9771a5d681ca0b726f5f90f49527d7b8//src/univariate/continuous/laplace.jl#L60\" target=\"_blank\">/Users/rodonn/.julia/v0.6/Distributions/src/univariate/continuous/laplace.jl:60</a></li> <li> mean<i>{T<:Real}</i>(d::<b>Distributions.Levy{T}</b>) at <a href=\"https://github.com/JuliaStats/Distributions.jl/tree/90519bcb9771a5d681ca0b726f5f90f49527d7b8//src/univariate/continuous/levy.jl#L51\" target=\"_blank\">/Users/rodonn/.julia/v0.6/Distributions/src/univariate/continuous/levy.jl:51</a></li> <li> mean(d::<b>Distributions.Logistic</b>) at <a href=\"https://github.com/JuliaStats/Distributions.jl/tree/90519bcb9771a5d681ca0b726f5f90f49527d7b8//src/univariate/continuous/logistic.jl#L59\" target=\"_blank\">/Users/rodonn/.julia/v0.6/Distributions/src/univariate/continuous/logistic.jl:59</a></li> <li> mean(d::<b>Distributions.NoncentralChisq</b>) at <a href=\"https://github.com/JuliaStats/Distributions.jl/tree/90519bcb9771a5d681ca0b726f5f90f49527d7b8//src/univariate/continuous/noncentralchisq.jl#L55\" target=\"_blank\">/Users/rodonn/.julia/v0.6/Distributions/src/univariate/continuous/noncentralchisq.jl:55</a></li> <li> mean<i>{T<:Real}</i>(d::<b>Distributions.NoncentralF{T}</b>) at <a href=\"https://github.com/JuliaStats/Distributions.jl/tree/90519bcb9771a5d681ca0b726f5f90f49527d7b8//src/univariate/continuous/noncentralf.jl#L37\" target=\"_blank\">/Users/rodonn/.julia/v0.6/Distributions/src/univariate/continuous/noncentralf.jl:37</a></li> <li> mean<i>{T<:Real}</i>(d::<b>Distributions.NoncentralT{T}</b>) at <a href=\"https://github.com/JuliaStats/Distributions.jl/tree/90519bcb9771a5d681ca0b726f5f90f49527d7b8//src/univariate/continuous/noncentralt.jl#L31\" target=\"_blank\">/Users/rodonn/.julia/v0.6/Distributions/src/univariate/continuous/noncentralt.jl:31</a></li> <li> mean(d::<b>Distributions.Normal</b>) at <a href=\"https://github.com/JuliaStats/Distributions.jl/tree/90519bcb9771a5d681ca0b726f5f90f49527d7b8//src/univariate/continuous/normal.jl#L57\" target=\"_blank\">/Users/rodonn/.julia/v0.6/Distributions/src/univariate/continuous/normal.jl:57</a></li> <li> mean(d::<b>Distributions.NormalCanon</b>) at <a href=\"https://github.com/JuliaStats/Distributions.jl/tree/90519bcb9771a5d681ca0b726f5f90f49527d7b8//src/univariate/continuous/normalcanon.jl#L38\" target=\"_blank\">/Users/rodonn/.julia/v0.6/Distributions/src/univariate/continuous/normalcanon.jl:38</a></li> <li> mean(d::<b>Distributions.NormalInverseGaussian</b>) at <a href=\"https://github.com/JuliaStats/Distributions.jl/tree/90519bcb9771a5d681ca0b726f5f90f49527d7b8//src/univariate/continuous/normalinversegaussian.jl#L46\" target=\"_blank\">/Users/rodonn/.julia/v0.6/Distributions/src/univariate/continuous/normalinversegaussian.jl:46</a></li> <li> mean(d::<b>Distributions.LogNormal</b>) at <a href=\"https://github.com/JuliaStats/Distributions.jl/tree/90519bcb9771a5d681ca0b726f5f90f49527d7b8//src/univariate/continuous/lognormal.jl#L56\" target=\"_blank\">/Users/rodonn/.julia/v0.6/Distributions/src/univariate/continuous/lognormal.jl:56</a></li> <li> mean<i>{T<:Real}</i>(d::<b>Distributions.Pareto{T}</b>) at <a href=\"https://github.com/JuliaStats/Distributions.jl/tree/90519bcb9771a5d681ca0b726f5f90f49527d7b8//src/univariate/continuous/pareto.jl#L56\" target=\"_blank\">/Users/rodonn/.julia/v0.6/Distributions/src/univariate/continuous/pareto.jl:56</a></li> <li> mean(d::<b>Distributions.Rayleigh</b>) at <a href=\"https://github.com/JuliaStats/Distributions.jl/tree/90519bcb9771a5d681ca0b726f5f90f49527d7b8//src/univariate/continuous/rayleigh.jl#L50\" target=\"_blank\">/Users/rodonn/.julia/v0.6/Distributions/src/univariate/continuous/rayleigh.jl:50</a></li> <li> mean(d::<b>Distributions.SymTriangularDist</b>) at <a href=\"https://github.com/JuliaStats/Distributions.jl/tree/90519bcb9771a5d681ca0b726f5f90f49527d7b8//src/univariate/continuous/symtriangular.jl#L56\" target=\"_blank\">/Users/rodonn/.julia/v0.6/Distributions/src/univariate/continuous/symtriangular.jl:56</a></li> <li> mean<i>{T<:Real}</i>(d::<b>Distributions.TDist{T}</b>) at <a href=\"https://github.com/JuliaStats/Distributions.jl/tree/90519bcb9771a5d681ca0b726f5f90f49527d7b8//src/univariate/continuous/tdist.jl#L45\" target=\"_blank\">/Users/rodonn/.julia/v0.6/Distributions/src/univariate/continuous/tdist.jl:45</a></li> <li> mean(d::<b>Distributions.TriangularDist</b>) at <a href=\"https://github.com/JuliaStats/Distributions.jl/tree/90519bcb9771a5d681ca0b726f5f90f49527d7b8//src/univariate/continuous/triangular.jl#L67\" target=\"_blank\">/Users/rodonn/.julia/v0.6/Distributions/src/univariate/continuous/triangular.jl:67</a></li> <li> mean(d::<b>Distributions.Triweight</b>) at <a href=\"https://github.com/JuliaStats/Distributions.jl/tree/90519bcb9771a5d681ca0b726f5f90f49527d7b8//src/univariate/continuous/triweight.jl#L30\" target=\"_blank\">/Users/rodonn/.julia/v0.6/Distributions/src/univariate/continuous/triweight.jl:30</a></li> <li> mean(d::<b>Distributions.Uniform</b>) at <a href=\"https://github.com/JuliaStats/Distributions.jl/tree/90519bcb9771a5d681ca0b726f5f90f49527d7b8//src/univariate/continuous/uniform.jl#L53\" target=\"_blank\">/Users/rodonn/.julia/v0.6/Distributions/src/univariate/continuous/uniform.jl:53</a></li> <li> mean(d::<b>Distributions.VonMises</b>) at <a href=\"https://github.com/JuliaStats/Distributions.jl/tree/90519bcb9771a5d681ca0b726f5f90f49527d7b8//src/univariate/continuous/vonmises.jl#L53\" target=\"_blank\">/Users/rodonn/.julia/v0.6/Distributions/src/univariate/continuous/vonmises.jl:53</a></li> <li> mean(d::<b>Distributions.Weibull</b>) at <a href=\"https://github.com/JuliaStats/Distributions.jl/tree/90519bcb9771a5d681ca0b726f5f90f49527d7b8//src/univariate/continuous/weibull.jl#L58\" target=\"_blank\">/Users/rodonn/.julia/v0.6/Distributions/src/univariate/continuous/weibull.jl:58</a></li> <li> mean(d::<b>Distributions.EdgeworthZ</b>) at <a href=\"https://github.com/JuliaStats/Distributions.jl/tree/90519bcb9771a5d681ca0b726f5f90f49527d7b8//src/edgeworth.jl#L23\" target=\"_blank\">/Users/rodonn/.julia/v0.6/Distributions/src/edgeworth.jl:23</a></li> <li> mean(d::<b>Distributions.EdgeworthSum</b>) at <a href=\"https://github.com/JuliaStats/Distributions.jl/tree/90519bcb9771a5d681ca0b726f5f90f49527d7b8//src/edgeworth.jl#L87\" target=\"_blank\">/Users/rodonn/.julia/v0.6/Distributions/src/edgeworth.jl:87</a></li> <li> mean(d::<b>Distributions.EdgeworthMean</b>) at <a href=\"https://github.com/JuliaStats/Distributions.jl/tree/90519bcb9771a5d681ca0b726f5f90f49527d7b8//src/edgeworth.jl#L103\" target=\"_blank\">/Users/rodonn/.julia/v0.6/Distributions/src/edgeworth.jl:103</a></li> <li> mean(d::<b>Distributions.Dirichlet</b>) at <a href=\"https://github.com/JuliaStats/Distributions.jl/tree/90519bcb9771a5d681ca0b726f5f90f49527d7b8//src/multivariate/dirichlet.jl#L48\" target=\"_blank\">/Users/rodonn/.julia/v0.6/Distributions/src/multivariate/dirichlet.jl:48</a></li> <li> mean(d::<b>Distributions.Multinomial</b>) at <a href=\"https://github.com/JuliaStats/Distributions.jl/tree/90519bcb9771a5d681ca0b726f5f90f49527d7b8//src/multivariate/multinomial.jl#L35\" target=\"_blank\">/Users/rodonn/.julia/v0.6/Distributions/src/multivariate/multinomial.jl:35</a></li> <li> mean(d::<b>Distributions.DirichletMultinomial</b>) at <a href=\"https://github.com/JuliaStats/Distributions.jl/tree/90519bcb9771a5d681ca0b726f5f90f49527d7b8//src/multivariate/dirichletmultinomial.jl#L29\" target=\"_blank\">/Users/rodonn/.julia/v0.6/Distributions/src/multivariate/dirichletmultinomial.jl:29</a></li> <li> mean(d::<b>Distributions.MvNormal</b>) at <a href=\"https://github.com/JuliaStats/Distributions.jl/tree/90519bcb9771a5d681ca0b726f5f90f49527d7b8//src/multivariate/mvnormal.jl#L142\" target=\"_blank\">/Users/rodonn/.julia/v0.6/Distributions/src/multivariate/mvnormal.jl:142</a></li> <li> mean(d::<b>Distributions.MvNormalCanon</b>) at <a href=\"https://github.com/JuliaStats/Distributions.jl/tree/90519bcb9771a5d681ca0b726f5f90f49527d7b8//src/multivariate/mvnormalcanon.jl#L97\" target=\"_blank\">/Users/rodonn/.julia/v0.6/Distributions/src/multivariate/mvnormalcanon.jl:97</a></li> <li> mean(d::<b>Distributions.MvLogNormal</b>) at <a href=\"https://github.com/JuliaStats/Distributions.jl/tree/90519bcb9771a5d681ca0b726f5f90f49527d7b8//src/multivariate/mvlognormal.jl#L139\" target=\"_blank\">/Users/rodonn/.julia/v0.6/Distributions/src/multivariate/mvlognormal.jl:139</a></li> <li> mean(d::<b>Distributions.GenericMvTDist</b>) at <a href=\"https://github.com/JuliaStats/Distributions.jl/tree/90519bcb9771a5d681ca0b726f5f90f49527d7b8//src/multivariate/mvtdist.jl#L88\" target=\"_blank\">/Users/rodonn/.julia/v0.6/Distributions/src/multivariate/mvtdist.jl:88</a></li> <li> mean(d::<b>Distributions.Wishart</b>) at <a href=\"https://github.com/JuliaStats/Distributions.jl/tree/90519bcb9771a5d681ca0b726f5f90f49527d7b8//src/matrix/wishart.jl#L66\" target=\"_blank\">/Users/rodonn/.julia/v0.6/Distributions/src/matrix/wishart.jl:66</a></li> <li> mean(d::<b>Distributions.InverseWishart</b>) at <a href=\"https://github.com/JuliaStats/Distributions.jl/tree/90519bcb9771a5d681ca0b726f5f90f49527d7b8//src/matrix/inversewishart.jl#L67\" target=\"_blank\">/Users/rodonn/.julia/v0.6/Distributions/src/matrix/inversewishart.jl:67</a></li> <li> mean<i>{T<:Real}</i>(d::<b>Distributions.Truncated{Distributions.Normal{T},Distributions.Continuous}</b>) at <a href=\"https://github.com/JuliaStats/Distributions.jl/tree/90519bcb9771a5d681ca0b726f5f90f49527d7b8//src/truncated/normal.jl#L25\" target=\"_blank\">/Users/rodonn/.julia/v0.6/Distributions/src/truncated/normal.jl:25</a></li> <li> mean(d::<b>Distributions.AbstractMixtureModel{Distributions.Univariate,S,C} where C<:Distributions.Distribution where S<:Distributions.ValueSupport</b>) at <a href=\"https://github.com/JuliaStats/Distributions.jl/tree/90519bcb9771a5d681ca0b726f5f90f49527d7b8//src/mixtures/mixturemodel.jl#L79\" target=\"_blank\">/Users/rodonn/.julia/v0.6/Distributions/src/mixtures/mixturemodel.jl:79</a></li> <li> mean(d::<b>Distributions.AbstractMixtureModel{Distributions.Multivariate,S,C} where C<:Distributions.Distribution where S<:Distributions.ValueSupport</b>) at <a href=\"https://github.com/JuliaStats/Distributions.jl/tree/90519bcb9771a5d681ca0b726f5f90f49527d7b8//src/mixtures/mixturemodel.jl#L93\" target=\"_blank\">/Users/rodonn/.julia/v0.6/Distributions/src/mixtures/mixturemodel.jl:93</a></li> <li> mean(iterable) at <a href=\"https://github.com/JuliaLang/julia/tree/903644385b91ed8d95e5e3a5716c089dd1f1b08a/base/statistics.jl#L34\" target=\"_blank\">statistics.jl:34</a></li> </ul>"
      ],
      "text/plain": [
       "# 77 methods for generic function \"mean\":\n",
       "mean(d::Distributions.DiscreteUniform) in Distributions at /Users/rodonn/.julia/v0.6/Distributions/src/univariate/discrete/discreteuniform.jl:50\n",
       "mean(d::Distributions.Hypergeometric) in Distributions at /Users/rodonn/.julia/v0.6/Distributions/src/univariate/discrete/hypergeometric.jl:42\n",
       "mean(d::Distributions.Kolmogorov) in Distributions at /Users/rodonn/.julia/v0.6/Distributions/src/univariate/continuous/kolmogorov.jl:15\n",
       "mean(d::Distributions.EmpiricalUnivariateDistribution) in Distributions at /Users/rodonn/.julia/v0.6/Distributions/src/empirical.jl:40\n",
       "mean(d::Distributions.UnivariateGMM) in Distributions at /Users/rodonn/.julia/v0.6/Distributions/src/mixtures/unigmm.jl:26\n",
       "mean(r::Range{#s45} where #s45<:Real) in Base at range.jl:858\n",
       "mean(f::Union{Function, Type}, A::AbstractArray) in Base at statistics.jl:35\n",
       "mean(f::Union{Function, Type}, iterable) in Base at statistics.jl:19\n",
       "mean(A::AbstractArray{T,N} where N, w::StatsBase.AbstractWeights{W,T,V} where V<:AbstractArray{T,1} where T<:Real, dim::Int64) where {T<:Number, W<:Real} in StatsBase at /Users/rodonn/.julia/v0.6/StatsBase/src/weights.jl:467\n",
       "mean(A::AbstractArray) in Base at statistics.jl:36\n",
       "mean(A::AbstractArray, w::StatsBase.AbstractWeights) in StatsBase at /Users/rodonn/.julia/v0.6/StatsBase/src/weights.jl:453\n",
       "mean(A::AbstractArray{T,N} where N, region) where T in Base at statistics.jl:57\n",
       "mean(d::Distributions.Bernoulli) in Distributions at /Users/rodonn/.julia/v0.6/Distributions/src/univariate/discrete/bernoulli.jl:57\n",
       "mean(d::Distributions.BetaBinomial) in Distributions at /Users/rodonn/.julia/v0.6/Distributions/src/univariate/discrete/betabinomial.jl:55\n",
       "mean(d::Distributions.Binomial) in Distributions at /Users/rodonn/.julia/v0.6/Distributions/src/univariate/discrete/binomial.jl:65\n",
       "mean(d::Distributions.Categorical) in Distributions at /Users/rodonn/.julia/v0.6/Distributions/src/univariate/discrete/categorical.jl:64\n",
       "mean(d::Distributions.Geometric) in Distributions at /Users/rodonn/.julia/v0.6/Distributions/src/univariate/discrete/geometric.jl:52\n",
       "mean(d::Distributions.NegativeBinomial) in Distributions at /Users/rodonn/.julia/v0.6/Distributions/src/univariate/discrete/negativebinomial.jl:69\n",
       "mean(d::Distributions.FisherNoncentralHypergeometric) in Distributions at /Users/rodonn/.julia/v0.6/Distributions/src/univariate/discrete/noncentralhypergeometric.jl:78\n",
       "mean(d::Distributions.WalleniusNoncentralHypergeometric) in Distributions at /Users/rodonn/.julia/v0.6/Distributions/src/univariate/discrete/noncentralhypergeometric.jl:117\n",
       "mean(d::Distributions.Poisson) in Distributions at /Users/rodonn/.julia/v0.6/Distributions/src/univariate/discrete/poisson.jl:47\n",
       "mean(d::Distributions.Skellam) in Distributions at /Users/rodonn/.julia/v0.6/Distributions/src/univariate/discrete/skellam.jl:53\n",
       "mean(d::Distributions.PoissonBinomial) in Distributions at /Users/rodonn/.julia/v0.6/Distributions/src/univariate/discrete/poissonbinomial.jl:65\n",
       "mean(d::Distributions.Arcsine) in Distributions at /Users/rodonn/.julia/v0.6/Distributions/src/univariate/continuous/arcsine.jl:59\n",
       "mean(d::Distributions.Beta) in Distributions at /Users/rodonn/.julia/v0.6/Distributions/src/univariate/continuous/beta.jl:62\n",
       "mean(d::Distributions.BetaPrime{T}) where T<:Real in Distributions at /Users/rodonn/.julia/v0.6/Distributions/src/univariate/continuous/betaprime.jl:62\n",
       "mean(d::Distributions.Biweight) in Distributions at /Users/rodonn/.julia/v0.6/Distributions/src/univariate/continuous/biweight.jl:21\n",
       "mean(d::Distributions.Cauchy{T}) where T<:Real in Distributions at /Users/rodonn/.julia/v0.6/Distributions/src/univariate/continuous/cauchy.jl:61\n",
       "mean(d::Distributions.Chisq) in Distributions at /Users/rodonn/.julia/v0.6/Distributions/src/univariate/continuous/chisq.jl:46\n",
       "mean(d::Distributions.Chi) in Distributions at /Users/rodonn/.julia/v0.6/Distributions/src/univariate/continuous/chi.jl:47\n",
       "mean(d::Distributions.Cosine) in Distributions at /Users/rodonn/.julia/v0.6/Distributions/src/univariate/continuous/cosine.jl:40\n",
       "mean(d::Distributions.Epanechnikov) in Distributions at /Users/rodonn/.julia/v0.6/Distributions/src/univariate/continuous/epanechnikov.jl:33\n",
       "mean(d::Distributions.Exponential) in Distributions at /Users/rodonn/.julia/v0.6/Distributions/src/univariate/continuous/exponential.jl:50\n",
       "mean(d::Distributions.FDist{T}) where T<:Real in Distributions at /Users/rodonn/.julia/v0.6/Distributions/src/univariate/continuous/fdist.jl:57\n",
       "mean(d::Distributions.Frechet{T}) where T<:Real in Distributions at /Users/rodonn/.julia/v0.6/Distributions/src/univariate/continuous/frechet.jl:62\n",
       "mean(d::Distributions.Gamma) in Distributions at /Users/rodonn/.julia/v0.6/Distributions/src/univariate/continuous/gamma.jl:59\n",
       "mean(d::Distributions.Erlang) in Distributions at /Users/rodonn/.julia/v0.6/Distributions/src/univariate/continuous/erlang.jl:53\n",
       "mean(d::Distributions.GeneralizedPareto{T}) where T<:Real in Distributions at /Users/rodonn/.julia/v0.6/Distributions/src/univariate/continuous/generalizedpareto.jl:78\n",
       "mean(d::Distributions.GeneralizedExtremeValue{T}) where T<:Real in Distributions at /Users/rodonn/.julia/v0.6/Distributions/src/univariate/continuous/generalizedextremevalue.jl:90\n",
       "mean(d::Distributions.Gumbel) in Distributions at /Users/rodonn/.julia/v0.6/Distributions/src/univariate/continuous/gumbel.jl:55\n",
       "mean(d::Distributions.InverseGamma{T}) where T<:Real in Distributions at /Users/rodonn/.julia/v0.6/Distributions/src/univariate/continuous/inversegamma.jl:61\n",
       "mean(d::Distributions.InverseGaussian) in Distributions at /Users/rodonn/.julia/v0.6/Distributions/src/univariate/continuous/inversegaussian.jl:60\n",
       "mean(d::Distributions.Laplace) in Distributions at /Users/rodonn/.julia/v0.6/Distributions/src/univariate/continuous/laplace.jl:60\n",
       "mean(d::Distributions.Levy{T}) where T<:Real in Distributions at /Users/rodonn/.julia/v0.6/Distributions/src/univariate/continuous/levy.jl:51\n",
       "mean(d::Distributions.Logistic) in Distributions at /Users/rodonn/.julia/v0.6/Distributions/src/univariate/continuous/logistic.jl:59\n",
       "mean(d::Distributions.NoncentralChisq) in Distributions at /Users/rodonn/.julia/v0.6/Distributions/src/univariate/continuous/noncentralchisq.jl:55\n",
       "mean(d::Distributions.NoncentralF{T}) where T<:Real in Distributions at /Users/rodonn/.julia/v0.6/Distributions/src/univariate/continuous/noncentralf.jl:37\n",
       "mean(d::Distributions.NoncentralT{T}) where T<:Real in Distributions at /Users/rodonn/.julia/v0.6/Distributions/src/univariate/continuous/noncentralt.jl:31\n",
       "mean(d::Distributions.Normal) in Distributions at /Users/rodonn/.julia/v0.6/Distributions/src/univariate/continuous/normal.jl:57\n",
       "mean(d::Distributions.NormalCanon) in Distributions at /Users/rodonn/.julia/v0.6/Distributions/src/univariate/continuous/normalcanon.jl:38\n",
       "mean(d::Distributions.NormalInverseGaussian) in Distributions at /Users/rodonn/.julia/v0.6/Distributions/src/univariate/continuous/normalinversegaussian.jl:46\n",
       "mean(d::Distributions.LogNormal) in Distributions at /Users/rodonn/.julia/v0.6/Distributions/src/univariate/continuous/lognormal.jl:56\n",
       "mean(d::Distributions.Pareto{T}) where T<:Real in Distributions at /Users/rodonn/.julia/v0.6/Distributions/src/univariate/continuous/pareto.jl:56\n",
       "mean(d::Distributions.Rayleigh) in Distributions at /Users/rodonn/.julia/v0.6/Distributions/src/univariate/continuous/rayleigh.jl:50\n",
       "mean(d::Distributions.SymTriangularDist) in Distributions at /Users/rodonn/.julia/v0.6/Distributions/src/univariate/continuous/symtriangular.jl:56\n",
       "mean(d::Distributions.TDist{T}) where T<:Real in Distributions at /Users/rodonn/.julia/v0.6/Distributions/src/univariate/continuous/tdist.jl:45\n",
       "mean(d::Distributions.TriangularDist) in Distributions at /Users/rodonn/.julia/v0.6/Distributions/src/univariate/continuous/triangular.jl:67\n",
       "mean(d::Distributions.Triweight) in Distributions at /Users/rodonn/.julia/v0.6/Distributions/src/univariate/continuous/triweight.jl:30\n",
       "mean(d::Distributions.Uniform) in Distributions at /Users/rodonn/.julia/v0.6/Distributions/src/univariate/continuous/uniform.jl:53\n",
       "mean(d::Distributions.VonMises) in Distributions at /Users/rodonn/.julia/v0.6/Distributions/src/univariate/continuous/vonmises.jl:53\n",
       "mean(d::Distributions.Weibull) in Distributions at /Users/rodonn/.julia/v0.6/Distributions/src/univariate/continuous/weibull.jl:58\n",
       "mean(d::Distributions.EdgeworthZ) in Distributions at /Users/rodonn/.julia/v0.6/Distributions/src/edgeworth.jl:23\n",
       "mean(d::Distributions.EdgeworthSum) in Distributions at /Users/rodonn/.julia/v0.6/Distributions/src/edgeworth.jl:87\n",
       "mean(d::Distributions.EdgeworthMean) in Distributions at /Users/rodonn/.julia/v0.6/Distributions/src/edgeworth.jl:103\n",
       "mean(d::Distributions.Dirichlet) in Distributions at /Users/rodonn/.julia/v0.6/Distributions/src/multivariate/dirichlet.jl:48\n",
       "mean(d::Distributions.Multinomial) in Distributions at /Users/rodonn/.julia/v0.6/Distributions/src/multivariate/multinomial.jl:35\n",
       "mean(d::Distributions.DirichletMultinomial) in Distributions at /Users/rodonn/.julia/v0.6/Distributions/src/multivariate/dirichletmultinomial.jl:29\n",
       "mean(d::Distributions.MvNormal) in Distributions at /Users/rodonn/.julia/v0.6/Distributions/src/multivariate/mvnormal.jl:142\n",
       "mean(d::Distributions.MvNormalCanon) in Distributions at /Users/rodonn/.julia/v0.6/Distributions/src/multivariate/mvnormalcanon.jl:97\n",
       "mean(d::Distributions.MvLogNormal) in Distributions at /Users/rodonn/.julia/v0.6/Distributions/src/multivariate/mvlognormal.jl:139\n",
       "mean(d::Distributions.GenericMvTDist) in Distributions at /Users/rodonn/.julia/v0.6/Distributions/src/multivariate/mvtdist.jl:88\n",
       "mean(d::Distributions.Wishart) in Distributions at /Users/rodonn/.julia/v0.6/Distributions/src/matrix/wishart.jl:66\n",
       "mean(d::Distributions.InverseWishart) in Distributions at /Users/rodonn/.julia/v0.6/Distributions/src/matrix/inversewishart.jl:67\n",
       "mean(d::Distributions.Truncated{Distributions.Normal{T},Distributions.Continuous}) where T<:Real in Distributions at /Users/rodonn/.julia/v0.6/Distributions/src/truncated/normal.jl:25\n",
       "mean(d::Distributions.AbstractMixtureModel{Distributions.Univariate,S,C} where C<:Distributions.Distribution where S<:Distributions.ValueSupport) in Distributions at /Users/rodonn/.julia/v0.6/Distributions/src/mixtures/mixturemodel.jl:79\n",
       "mean(d::Distributions.AbstractMixtureModel{Distributions.Multivariate,S,C} where C<:Distributions.Distribution where S<:Distributions.ValueSupport) in Distributions at /Users/rodonn/.julia/v0.6/Distributions/src/mixtures/mixturemodel.jl:93\n",
       "mean(iterable) in Base at statistics.jl:34"
      ]
     },
     "execution_count": 13,
     "metadata": {},
     "output_type": "execute_result"
    }
   ],
   "source": [
    "methods(mean)"
   ]
  },
  {
   "cell_type": "code",
   "execution_count": null,
   "metadata": {
    "collapsed": true
   },
   "outputs": [],
   "source": []
  }
 ],
 "metadata": {
  "kernelspec": {
   "display_name": "Julia 0.6.0",
   "language": "julia",
   "name": "julia-0.6"
  },
  "language_info": {
   "file_extension": ".jl",
   "mimetype": "application/julia",
   "name": "julia",
   "version": "0.6.0"
  }
 },
 "nbformat": 4,
 "nbformat_minor": 2
}
