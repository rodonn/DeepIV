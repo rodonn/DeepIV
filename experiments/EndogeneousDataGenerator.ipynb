{
 "cells": [
  {
   "cell_type": "code",
   "execution_count": 133,
   "metadata": {
    "collapsed": true
   },
   "outputs": [],
   "source": [
    "import numpy as np\n",
    "import numpy.random as random\n",
    "import statsmodels.api as sm\n",
    "import statsmodels.sandbox.regression.gmm ## For 2SLS\n",
    "IV2SLS = statsmodels.sandbox.regression.gmm.IV2SLS"
   ]
  },
  {
   "cell_type": "code",
   "execution_count": 74,
   "metadata": {
    "autoscroll": false,
    "collapsed": true,
    "ein.tags": "worksheet-0",
    "slideshow": {
     "slide_type": "-"
    }
   },
   "outputs": [],
   "source": [
    "class EndogeneousDataGenerator():\n",
    "    \"\"\" Endogeneous Data Generator\n",
    "    \n",
    "    This generates data from a data generating process that may include endogeneity\n",
    "    and may (or may not) have valid instrumental variables.\n",
    "    \n",
    "    The data is generated from the following formulas    \n",
    "    Y = outcomeFunc(T, X, U)\n",
    "    T = treatmentFunc(X, Z, U)\n",
    "    \n",
    "    X ~ xGenerator(N)\n",
    "    Z ~ zGenerator(N,X)\n",
    "    U ~ uGenerator(N,X,Z)\n",
    "    \n",
    "    The goal is to learn the true causal effect of the potentially endogeneous treatment variable(s) T.\n",
    "    The X represent known exogeneous variables which may affect the treatment assignment and the outcome Y.\n",
    "    The U represent unobserved variables which may affect both the treatment assignment and the outcome\n",
    "      and therefore are a potential cause of endogeneity.\n",
    "    \"\"\"\n",
    "    def __init__(self, outcomeFunc, treatmentFunc, xGenerator, zGenerator, uGenerator):\n",
    "        self.outcomeFunc = outcomeFunc\n",
    "        self.treatmentFunc = treatmentFunc\n",
    "        self.xGenerator = xGenerator\n",
    "        self.zGenerator = zGenerator\n",
    "        self.uGenerator = uGenerator\n",
    "\n",
    "    def generateData(self, N):\n",
    "        X = self.xGenerator(N)\n",
    "        Z = self.zGenerator(N,X)\n",
    "        U = self.uGenerator(N,X,Z)\n",
    "        \n",
    "        T = self.treatmentFunc(X,Z,U)\n",
    "        Y = self.outcomeFunc(T,X,U)\n",
    "        \n",
    "        return Y, T, X, Z, U\n",
    "    \n",
    "    def evaluate(self, T, X, U):\n",
    "        \"\"\" Returns the true outcome Y given \n",
    "        the treatment T and observables X and the unobserved values U\n",
    "        \"\"\"\n",
    "        return self.outcomeFunc(T,X,U)\n"
   ]
  },
  {
   "cell_type": "code",
   "execution_count": 235,
   "metadata": {
    "collapsed": true
   },
   "outputs": [],
   "source": [
    "## Y = Wages\n",
    "## X = Years Experience\n",
    "## T = Years of Education\n",
    "## Z = birth quarter\n",
    "## U = Unobserved Skill\n",
    "\n",
    "def treatmentFunc(X, Z, U):\n",
    "    return 0.5*X + 20*Z + 8*U + random.normal(0,1,X.shape)\n",
    "\n",
    "def outcomeFunc(T, X, U):\n",
    "    return 10*T + 5*X + 6*U + random.normal(0,1,X.shape)\n",
    "\n",
    "def xGenerator(N):\n",
    "    return random.normal(10, 3, (N,1))\n",
    "\n",
    "def zGenerator(N, X):\n",
    "    return random.rand(N,1)\n",
    "\n",
    "def uGenerator(N, X, Z):\n",
    "    return random.rand(N,1)\n"
   ]
  },
  {
   "cell_type": "code",
   "execution_count": 236,
   "metadata": {
    "collapsed": true
   },
   "outputs": [],
   "source": [
    "dgp = EndogeneousDataGenerator(outcomeFunc, treatmentFunc, xGenerator, zGenerator, uGenerator)"
   ]
  },
  {
   "cell_type": "code",
   "execution_count": 237,
   "metadata": {
    "collapsed": true
   },
   "outputs": [],
   "source": [
    "Y, T, X, Z, U = dgp.generateData(50)\n",
    "TX = sm.add_constant(np.hstack((T,X)))\n",
    "XZ = sm.add_constant(np.hstack((X,Z)))"
   ]
  },
  {
   "cell_type": "code",
   "execution_count": 238,
   "metadata": {
    "collapsed": true
   },
   "outputs": [],
   "source": [
    "fittedModel = IV2SLS(Y,TX,XZ).fit()"
   ]
  },
  {
   "cell_type": "code",
   "execution_count": 239,
   "metadata": {
    "collapsed": false
   },
   "outputs": [
    {
     "data": {
      "text/html": [
       "<table class=\"simpletable\">\n",
       "<caption>IV2SLS Regression Results</caption>\n",
       "<tr>\n",
       "  <th>Dep. Variable:</th>            <td>y</td>        <th>  R-squared:         </th> <td>   0.999</td> \n",
       "</tr>\n",
       "<tr>\n",
       "  <th>Model:</th>                 <td>IV2SLS</td>      <th>  Adj. R-squared:    </th> <td>   0.999</td> \n",
       "</tr>\n",
       "<tr>\n",
       "  <th>Method:</th>               <td>Two Stage</td>    <th>  F-statistic:       </th> <td>2.768e+04</td>\n",
       "</tr>\n",
       "<tr>\n",
       "  <th></th>                    <td>Least Squares</td>  <th>  Prob (F-statistic):</th> <td>6.62e-73</td> \n",
       "</tr>\n",
       "<tr>\n",
       "  <th>Date:</th>             <td>Sat, 15 Jul 2017</td> <th>                     </th>     <td> </td>    \n",
       "</tr>\n",
       "<tr>\n",
       "  <th>Time:</th>                 <td>23:59:12</td>     <th>                     </th>     <td> </td>    \n",
       "</tr>\n",
       "<tr>\n",
       "  <th>No. Observations:</th>      <td>    50</td>      <th>                     </th>     <td> </td>    \n",
       "</tr>\n",
       "<tr>\n",
       "  <th>Df Residuals:</th>          <td>    47</td>      <th>                     </th>     <td> </td>    \n",
       "</tr>\n",
       "<tr>\n",
       "  <th>Df Model:</th>              <td>     2</td>      <th>                     </th>     <td> </td>    \n",
       "</tr>\n",
       "</table>\n",
       "<table class=\"simpletable\">\n",
       "<tr>\n",
       "    <td></td>       <th>coef</th>     <th>std err</th>      <th>t</th>      <th>P>|t|</th>  <th>[0.025</th>    <th>0.975]</th>  \n",
       "</tr>\n",
       "<tr>\n",
       "  <th>const</th> <td>    0.7966</td> <td>    1.140</td> <td>    0.699</td> <td> 0.488</td> <td>   -1.496</td> <td>    3.089</td>\n",
       "</tr>\n",
       "<tr>\n",
       "  <th>x1</th>    <td>   10.0327</td> <td>    0.049</td> <td>  206.005</td> <td> 0.000</td> <td>    9.935</td> <td>   10.131</td>\n",
       "</tr>\n",
       "<tr>\n",
       "  <th>x2</th>    <td>    5.1676</td> <td>    0.082</td> <td>   63.165</td> <td> 0.000</td> <td>    5.003</td> <td>    5.332</td>\n",
       "</tr>\n",
       "</table>\n",
       "<table class=\"simpletable\">\n",
       "<tr>\n",
       "  <th>Omnibus:</th>       <td> 1.239</td> <th>  Durbin-Watson:     </th> <td>   2.234</td>\n",
       "</tr>\n",
       "<tr>\n",
       "  <th>Prob(Omnibus):</th> <td> 0.538</td> <th>  Jarque-Bera (JB):  </th> <td>   1.148</td>\n",
       "</tr>\n",
       "<tr>\n",
       "  <th>Skew:</th>          <td> 0.214</td> <th>  Prob(JB):          </th> <td>   0.563</td>\n",
       "</tr>\n",
       "<tr>\n",
       "  <th>Kurtosis:</th>      <td> 2.393</td> <th>  Cond. No.          </th> <td>    91.6</td>\n",
       "</tr>\n",
       "</table>"
      ],
      "text/plain": [
       "<class 'statsmodels.iolib.summary.Summary'>\n",
       "\"\"\"\n",
       "                          IV2SLS Regression Results                           \n",
       "==============================================================================\n",
       "Dep. Variable:                      y   R-squared:                       0.999\n",
       "Model:                         IV2SLS   Adj. R-squared:                  0.999\n",
       "Method:                     Two Stage   F-statistic:                 2.768e+04\n",
       "                        Least Squares   Prob (F-statistic):           6.62e-73\n",
       "Date:                Sat, 15 Jul 2017                                         \n",
       "Time:                        23:59:12                                         \n",
       "No. Observations:                  50                                         \n",
       "Df Residuals:                      47                                         \n",
       "Df Model:                           2                                         \n",
       "==============================================================================\n",
       "                 coef    std err          t      P>|t|      [0.025      0.975]\n",
       "------------------------------------------------------------------------------\n",
       "const          0.7966      1.140      0.699      0.488      -1.496       3.089\n",
       "x1            10.0327      0.049    206.005      0.000       9.935      10.131\n",
       "x2             5.1676      0.082     63.165      0.000       5.003       5.332\n",
       "==============================================================================\n",
       "Omnibus:                        1.239   Durbin-Watson:                   2.234\n",
       "Prob(Omnibus):                  0.538   Jarque-Bera (JB):                1.148\n",
       "Skew:                           0.214   Prob(JB):                        0.563\n",
       "Kurtosis:                       2.393   Cond. No.                         91.6\n",
       "==============================================================================\n",
       "\"\"\""
      ]
     },
     "execution_count": 239,
     "metadata": {},
     "output_type": "execute_result"
    }
   ],
   "source": [
    "fittedModel.summary()"
   ]
  },
  {
   "cell_type": "code",
   "execution_count": 240,
   "metadata": {
    "collapsed": false
   },
   "outputs": [
    {
     "data": {
      "text/plain": [
       "175.41195727153445"
      ]
     },
     "execution_count": 240,
     "metadata": {},
     "output_type": "execute_result"
    }
   ],
   "source": [
    "np.sum((fittedModel.predict(TX) - Y.ravel())**2)"
   ]
  },
  {
   "cell_type": "code",
   "execution_count": 241,
   "metadata": {
    "collapsed": false,
    "scrolled": true
   },
   "outputs": [
    {
     "data": {
      "text/plain": [
       "175.41195727153445"
      ]
     },
     "execution_count": 241,
     "metadata": {},
     "output_type": "execute_result"
    }
   ],
   "source": [
    "np.sum((fittedModel.resid)**2)"
   ]
  },
  {
   "cell_type": "code",
   "execution_count": 242,
   "metadata": {
    "collapsed": true
   },
   "outputs": [],
   "source": [
    "TXZ = sm.add_constant(np.hstack((T,X,Z)))\n",
    "fittedModel = sm.OLS(Y,TXZ).fit()"
   ]
  },
  {
   "cell_type": "code",
   "execution_count": 243,
   "metadata": {
    "collapsed": false
   },
   "outputs": [
    {
     "data": {
      "text/html": [
       "<table class=\"simpletable\">\n",
       "<caption>OLS Regression Results</caption>\n",
       "<tr>\n",
       "  <th>Dep. Variable:</th>            <td>y</td>        <th>  R-squared:         </th> <td>   1.000</td> \n",
       "</tr>\n",
       "<tr>\n",
       "  <th>Model:</th>                   <td>OLS</td>       <th>  Adj. R-squared:    </th> <td>   1.000</td> \n",
       "</tr>\n",
       "<tr>\n",
       "  <th>Method:</th>             <td>Least Squares</td>  <th>  F-statistic:       </th> <td>5.112e+04</td>\n",
       "</tr>\n",
       "<tr>\n",
       "  <th>Date:</th>             <td>Sat, 15 Jul 2017</td> <th>  Prob (F-statistic):</th> <td>5.12e-81</td> \n",
       "</tr>\n",
       "<tr>\n",
       "  <th>Time:</th>                 <td>23:59:15</td>     <th>  Log-Likelihood:    </th> <td> -79.997</td> \n",
       "</tr>\n",
       "<tr>\n",
       "  <th>No. Observations:</th>      <td>    50</td>      <th>  AIC:               </th> <td>   168.0</td> \n",
       "</tr>\n",
       "<tr>\n",
       "  <th>Df Residuals:</th>          <td>    46</td>      <th>  BIC:               </th> <td>   175.6</td> \n",
       "</tr>\n",
       "<tr>\n",
       "  <th>Df Model:</th>              <td>     3</td>      <th>                     </th>     <td> </td>    \n",
       "</tr>\n",
       "<tr>\n",
       "  <th>Covariance Type:</th>      <td>nonrobust</td>    <th>                     </th>     <td> </td>    \n",
       "</tr>\n",
       "</table>\n",
       "<table class=\"simpletable\">\n",
       "<tr>\n",
       "    <td></td>       <th>coef</th>     <th>std err</th>      <th>t</th>      <th>P>|t|</th>  <th>[0.025</th>    <th>0.975]</th>  \n",
       "</tr>\n",
       "<tr>\n",
       "  <th>const</th> <td>    0.0575</td> <td>    0.718</td> <td>    0.080</td> <td> 0.937</td> <td>   -1.388</td> <td>    1.503</td>\n",
       "</tr>\n",
       "<tr>\n",
       "  <th>x1</th>    <td>   10.6301</td> <td>    0.073</td> <td>  144.964</td> <td> 0.000</td> <td>   10.482</td> <td>   10.778</td>\n",
       "</tr>\n",
       "<tr>\n",
       "  <th>x2</th>    <td>    4.7116</td> <td>    0.077</td> <td>   61.210</td> <td> 0.000</td> <td>    4.557</td> <td>    4.867</td>\n",
       "</tr>\n",
       "<tr>\n",
       "  <th>x3</th>    <td>  -12.4101</td> <td>    1.658</td> <td>   -7.485</td> <td> 0.000</td> <td>  -15.747</td> <td>   -9.073</td>\n",
       "</tr>\n",
       "</table>\n",
       "<table class=\"simpletable\">\n",
       "<tr>\n",
       "  <th>Omnibus:</th>       <td> 1.559</td> <th>  Durbin-Watson:     </th> <td>   1.810</td>\n",
       "</tr>\n",
       "<tr>\n",
       "  <th>Prob(Omnibus):</th> <td> 0.459</td> <th>  Jarque-Bera (JB):  </th> <td>   1.516</td>\n",
       "</tr>\n",
       "<tr>\n",
       "  <th>Skew:</th>          <td> 0.391</td> <th>  Prob(JB):          </th> <td>   0.469</td>\n",
       "</tr>\n",
       "<tr>\n",
       "  <th>Kurtosis:</th>      <td> 2.660</td> <th>  Cond. No.          </th> <td>    214.</td>\n",
       "</tr>\n",
       "</table>"
      ],
      "text/plain": [
       "<class 'statsmodels.iolib.summary.Summary'>\n",
       "\"\"\"\n",
       "                            OLS Regression Results                            \n",
       "==============================================================================\n",
       "Dep. Variable:                      y   R-squared:                       1.000\n",
       "Model:                            OLS   Adj. R-squared:                  1.000\n",
       "Method:                 Least Squares   F-statistic:                 5.112e+04\n",
       "Date:                Sat, 15 Jul 2017   Prob (F-statistic):           5.12e-81\n",
       "Time:                        23:59:15   Log-Likelihood:                -79.997\n",
       "No. Observations:                  50   AIC:                             168.0\n",
       "Df Residuals:                      46   BIC:                             175.6\n",
       "Df Model:                           3                                         \n",
       "Covariance Type:            nonrobust                                         \n",
       "==============================================================================\n",
       "                 coef    std err          t      P>|t|      [0.025      0.975]\n",
       "------------------------------------------------------------------------------\n",
       "const          0.0575      0.718      0.080      0.937      -1.388       1.503\n",
       "x1            10.6301      0.073    144.964      0.000      10.482      10.778\n",
       "x2             4.7116      0.077     61.210      0.000       4.557       4.867\n",
       "x3           -12.4101      1.658     -7.485      0.000     -15.747      -9.073\n",
       "==============================================================================\n",
       "Omnibus:                        1.559   Durbin-Watson:                   1.810\n",
       "Prob(Omnibus):                  0.459   Jarque-Bera (JB):                1.516\n",
       "Skew:                           0.391   Prob(JB):                        0.469\n",
       "Kurtosis:                       2.660   Cond. No.                         214.\n",
       "==============================================================================\n",
       "\n",
       "Warnings:\n",
       "[1] Standard Errors assume that the covariance matrix of the errors is correctly specified.\n",
       "\"\"\""
      ]
     },
     "execution_count": 243,
     "metadata": {},
     "output_type": "execute_result"
    }
   ],
   "source": [
    "fittedModel.summary()"
   ]
  },
  {
   "cell_type": "code",
   "execution_count": 224,
   "metadata": {
    "collapsed": false
   },
   "outputs": [
    {
     "data": {
      "text/plain": [
       "57.651141564285268"
      ]
     },
     "execution_count": 224,
     "metadata": {},
     "output_type": "execute_result"
    }
   ],
   "source": [
    "np.sum((fittedModel.predict(TXZ) - Y.ravel())**2)"
   ]
  },
  {
   "cell_type": "code",
   "execution_count": 225,
   "metadata": {
    "collapsed": false
   },
   "outputs": [
    {
     "data": {
      "text/plain": [
       "57.651141564285268"
      ]
     },
     "execution_count": 225,
     "metadata": {},
     "output_type": "execute_result"
    }
   ],
   "source": [
    "np.sum(fittedModel.resid**2)"
   ]
  },
  {
   "cell_type": "code",
   "execution_count": null,
   "metadata": {
    "collapsed": true
   },
   "outputs": [],
   "source": []
  }
 ],
 "metadata": {
  "kernelspec": {
   "display_name": "Python 3",
   "language": "python",
   "name": "python3"
  },
  "language_info": {
   "codemirror_mode": {
    "name": "ipython",
    "version": 3
   },
   "file_extension": ".py",
   "mimetype": "text/x-python",
   "name": "python",
   "nbconvert_exporter": "python",
   "pygments_lexer": "ipython3",
   "version": "3.6.0"
  },
  "name": "EndogeneousDataGenerator.ipynb"
 },
 "nbformat": 4,
 "nbformat_minor": 2
}
